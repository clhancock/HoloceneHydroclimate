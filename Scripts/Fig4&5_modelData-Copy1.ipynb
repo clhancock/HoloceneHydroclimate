{
 "cells": [
  {
   "cell_type": "markdown",
   "metadata": {},
   "source": [
    "# Script to plot figure 9: model and proxy correlations"
   ]
  },
  {
   "cell_type": "code",
   "execution_count": 15,
   "metadata": {},
   "outputs": [
    {
     "name": "stdout",
     "output_type": "stream",
     "text": [
      "Packages Loaded\n"
     ]
    }
   ],
   "source": [
    "#Input Data: \n",
    "modelDataPath = 'Data/Model/' #netcdf of model data. Unique my model/season. Each contains multiple climate variables\n",
    "\n",
    "#Load Packages\n",
    "import cartopy.crs         as ccrs\n",
    "import cartopy.util        as cutil\n",
    "import matplotlib.pyplot   as plt\n",
    "import matplotlib.gridspec as gridspec\n",
    "from   matplotlib.colors   import LinearSegmentedColormap\n",
    "import numpy               as np\n",
    "import os\n",
    "import pandas              as pd \n",
    "import regionmask          as rm\n",
    "from   scipy.stats         import pearsonr \n",
    "import warnings\n",
    "import xarray              as xr\n",
    "\n",
    "warnings.filterwarnings('ignore')\n",
    "print(\"Packages Loaded\")"
   ]
  },
  {
   "cell_type": "code",
   "execution_count": 2,
   "metadata": {},
   "outputs": [
    {
     "name": "stdout",
     "output_type": "stream",
     "text": [
      "Working directory set to: /Volumes/GoogleDrive/My Drive/zResearch/Manuscript/2021_HoloceneHydroclimate/2021_HoloceneHydroclimate\n"
     ]
    }
   ],
   "source": [
    "#Set Working Directory\n",
    "wd = '/Volumes/GoogleDrive/My Drive/zResearch/Manuscript/2021_HoloceneHydroclimate/2021_HoloceneHydroclimate'\n",
    "os.chdir(wd)\n",
    "print('Working directory set to: '+wd)"
   ]
  },
  {
   "cell_type": "code",
   "execution_count": 12,
   "metadata": {},
   "outputs": [
    {
     "name": "stdout",
     "output_type": "stream",
     "text": [
      "Settings chosen to save ['ANN'] pre vs tas\n",
      "hadcm ['evp_regrid', 'p-e_regrid', 'pre_regrid', 'tas_regrid'] loaded\n",
      "trace ['evp_regrid', 'p-e_regrid', 'pre_regrid', 'tas_regrid'] loaded\n"
     ]
    }
   ],
   "source": [
    "#Plot Agreement Settings\n",
    "\n",
    "#Model Data to Plot\n",
    "times = [0,12]\n",
    "seasons   = ['ANN']\n",
    "v_1   = 'pre'\n",
    "v_2   = 'tas'\n",
    "regrid = True\n",
    "\n",
    "#True/False to save/not save\n",
    "save = True \n",
    "\n",
    "#Plot Settings\n",
    "font = 'Times New Roman'\n",
    "plt.rcParams['font.family'   ] = font\n",
    "plt.rcParams['axes.facecolor'] ='white'\n",
    "plt.rcParams['axes.linewidth'] = 0.5\n",
    "plt.rcParams['axes.edgecolor'] = 'k'\n",
    "plt.rcParams.update({'font.size': 10})\n",
    "\n",
    "#Print summary\n",
    "if save: print(\"Settings chosen to save \"+str(seasons)+\" \"+v_1+\" vs \"+v_2)\n",
    "else:    print(\"Settings chosen to plot \"+str(seasons)+\" \"+v_1+\" vs \"+v_2)\n",
    "    \n",
    "\n",
    "#Load data\n",
    "modelData = {}\n",
    "for model in ['hadcm','trace']:\n",
    "    modelData[model] = {}\n",
    "    for szn in seasons:\n",
    "        if regrid: end = '_regrid.nc'\n",
    "        else:      end =  '.nc'\n",
    "        modelData[model][szn] = xr.open_dataset(modelDataPath+model+'/'+model+'_'+szn+end,decode_times=False)\n",
    "    print(model+\" \"+str(sorted([i for i in modelData[model][szn].data_vars]))+' loaded')"
   ]
  },
  {
   "cell_type": "code",
   "execution_count": 13,
   "metadata": {},
   "outputs": [
    {
     "name": "stdout",
     "output_type": "stream",
     "text": [
      "Function Created\n"
     ]
    }
   ],
   "source": [
    "#Define Function for calculating grid cell correlation values\n",
    "\n",
    "def calcCorrelation (inData,model1,model2,var1,var2,season,t0=0,t1=12,mask=False,regrid=True):\n",
    "    if regrid == False:\n",
    "        modelData1 = inData[model1][season][var1]\n",
    "        modelData2 = inData[model2][season][var2]\n",
    "        lats,lons = modelData1.lat,modelData1.lon\n",
    "    else: \n",
    "        modelData1 = inData[model1][season][var1+'_regrid']\n",
    "        modelData2 = inData[model2][season][var2+'_regrid']\n",
    "        lats,lons = modelData1.lat_regrid,modelData1.lon_regrid\n",
    "    t_0 = np.argmin(np.abs(t0*1000 - modelData1.time.data))   \n",
    "    t_1 = np.argmin(np.abs(t1*1000 - modelData1.time.data))\n",
    "    out = np.full(np.shape(modelData1)[1:3],np.NaN)\n",
    "    for lat in range(len(lats)):\n",
    "        for lon in range(len(lons)):\n",
    "            out[lat,lon] = pearsonr(modelData1[t_0:t_1,lat,lon].data,modelData2[t_0:t_1,lat,lon].data)[0]\n",
    "    return(out)\n",
    "\n",
    "print('Function Created')"
   ]
  },
  {
   "cell_type": "code",
   "execution_count": 16,
   "metadata": {},
   "outputs": [
    {
     "name": "stdout",
     "output_type": "stream",
     "text": [
      "Calculating Correlations...  Done\n"
     ]
    }
   ],
   "source": [
    "#Calculate using function\n",
    "\n",
    "#rVals = calcCorrelation(modelData,m_1,m_2,v_1,v_2,szn,times[0],times[1])\n",
    "rVals1 = calcCorrelation(modelData,'hadcm','hadcm',v_1,v_2,szn,times[0],times[1])\n",
    "rVals2 = calcCorrelation(modelData,'trace','trace',v_1,v_2,szn,times[0],times[1])\n",
    "rVals  = np.mean([rVals2,rVals1],axis=0)\n",
    "\n",
    "print(\"Calculating Correlations...  Done\")"
   ]
  },
  {
   "cell_type": "code",
   "execution_count": null,
   "metadata": {},
   "outputs": [],
   "source": []
  },
  {
   "cell_type": "code",
   "execution_count": null,
   "metadata": {},
   "outputs": [],
   "source": []
  },
  {
   "cell_type": "code",
   "execution_count": null,
   "metadata": {},
   "outputs": [],
   "source": []
  },
  {
   "cell_type": "markdown",
   "metadata": {},
   "source": []
  }
 ],
 "metadata": {
  "kernelspec": {
   "display_name": "Python 3 (ipykernel)",
   "language": "python",
   "name": "python3"
  },
  "language_info": {
   "codemirror_mode": {
    "name": "ipython",
    "version": 3
   },
   "file_extension": ".py",
   "mimetype": "text/x-python",
   "name": "python",
   "nbconvert_exporter": "python",
   "pygments_lexer": "ipython3",
   "version": "3.9.13"
  }
 },
 "nbformat": 4,
 "nbformat_minor": 4
}
