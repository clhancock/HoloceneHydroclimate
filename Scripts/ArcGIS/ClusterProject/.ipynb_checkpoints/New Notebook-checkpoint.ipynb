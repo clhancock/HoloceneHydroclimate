{
 "cells": [
  {
   "cell_type": "code",
   "execution_count": 1,
   "metadata": {},
   "outputs": [],
   "source": [
    "import os; import arcpy; import numpy as np\n",
    "#Set Coordinate System\n",
    "spatialRef    = arcpy.SpatialReference(4326) #WGS1984\n",
    "spatialRefPrj = arcpy.SpatialReference(32662) #WGS_1984_Plate_Carre\n",
    "\n",
    "climateVariable = 'HC' #T or HC\n",
    "#Set file names and locations\n",
    "data_dir = r'Z:\\Desktop\\HoloceneHydroclimate\\DataSummary'\n",
    "dataname = 'proxy'+climateVariable\n",
    "datapath = os.path.join(data_dir,dataname+'.csv')\n",
    "XFieldName = 'Lon'; YFieldName = 'Lat'\n",
    "datanameProject = dataname+\"_project\""
   ]
  },
  {
   "cell_type": "code",
   "execution_count": null,
   "metadata": {},
   "outputs": [],
   "source": []
  }
 ],
 "metadata": {
  "kernelspec": {
   "display_name": "ArcGISPro",
   "language": "Python",
   "name": "python3"
  },
  "language_info": {
   "file_extension": ".py",
   "name": "python",
   "version": "3"
  }
 },
 "nbformat": 4,
 "nbformat_minor": 2
}
