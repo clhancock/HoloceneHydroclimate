{
 "cells": [
  {
   "cell_type": "code",
   "execution_count": 1,
   "id": "f5c1ab83",
   "metadata": {},
   "outputs": [
    {
     "name": "stderr",
     "output_type": "stream",
     "text": [
      "/Users/chrishancock/opt/anaconda3/envs/HC12k/lib/python3.9/site-packages/scipy/__init__.py:146: UserWarning: A NumPy version >=1.16.5 and <1.23.0 is required for this version of SciPy (detected version 1.23.1\n",
      "  warnings.warn(f\"A NumPy version >={np_minversion} and <{np_maxversion}\"\n"
     ]
    },
    {
     "name": "stdout",
     "output_type": "stream",
     "text": [
      "Packages Loaded\n"
     ]
    }
   ],
   "source": [
    "#Input Data: \n",
    "modelDataPath = '/Data/Model/' #netcdf of model data. Unique my model/season. Each contains multiple climate variables\n",
    "\n",
    "import numpy      as np\n",
    "import os\n",
    "import pandas     as pd\n",
    "import regionmask as rm\n",
    "import warnings\n",
    "import xarray     as xr\n",
    "\n",
    "warnings.filterwarnings('ignore')\n",
    "print(\"Packages Loaded\")"
   ]
  },
  {
   "cell_type": "code",
   "execution_count": 2,
   "id": "e0ffc8f8",
   "metadata": {},
   "outputs": [
    {
     "name": "stdout",
     "output_type": "stream",
     "text": [
      "Working directory set to: /Volumes/GoogleDrive/My Drive/zResearch/Manuscript/2021_HoloceneHydroclimate/2021_HoloceneHydroclimate\n"
     ]
    }
   ],
   "source": [
    "#Set Working Directory\n",
    "wd = '/Volumes/GoogleDrive/My Drive/zResearch/Manuscript/2021_HoloceneHydroclimate/2021_HoloceneHydroclimate'\n",
    "os.chdir(wd)\n",
    "print('Working directory set to: '+wd)"
   ]
  },
  {
   "cell_type": "code",
   "execution_count": 26,
   "id": "c29ef33b",
   "metadata": {},
   "outputs": [
    {
     "name": "stdout",
     "output_type": "stream",
     "text": [
      "hadcm ['evp', 'p-e', 'pre', 'tas'] loaded\n",
      "trace ['evp', 'p-e', 'pre', 'tas'] loaded\n",
      "cmip6 ['evp', 'p-e', 'pre', 'tas'] loaded\n"
     ]
    }
   ],
   "source": [
    "#Load Data\n",
    "modelData = {}\n",
    "for model in ['hadcm','trace','cmip6']:\n",
    "    modelData[model] = {}\n",
    "    for szn in ['ANN','JJA','DJF']:\n",
    "        if model == 'cmip6': end = '.nc'\n",
    "        else: end =  '_regrid.nc'\n",
    "        modelData[model][szn] = xr.open_dataset('Data/Model/'+model+'/'+model+'_'+szn+end,decode_times=False)\n",
    "        if end == '_regrid.nc':\n",
    "            modelData[model][szn]=modelData[model][szn].rename({'pre_regrid':'pre','tas_regrid':'tas',\n",
    "                                                                'p-e_regrid':'p-e','evp_regrid':'evp',\n",
    "                                                                'lat_regrid':'lat','lon_regrid':'lon'})\n",
    "    print(model+\" \"+str(sorted([i for i in modelData[model][szn].data_vars]))+' loaded')\n",
    "    \n",
    "    "
   ]
  },
  {
   "cell_type": "code",
   "execution_count": 34,
   "id": "71f09041",
   "metadata": {},
   "outputs": [],
   "source": [
    "def maskmodeldata(values,lats,lons,geo='all'):\n",
    "    #Lat weights\n",
    "    wghts  = np.cos(np.deg2rad(lats))\n",
    "    #IPCC ref regions\n",
    "    refReg = rm.defined_regions.ar6.all\n",
    "    refReg = refReg.mask_3D(lons,lats)  \n",
    "    if geo == 'land':\n",
    "        #Land mask\n",
    "        land   = rm.defined_regions.natural_earth.land_110\n",
    "        land   = land.mask_3D(lons,lats)   \n",
    "        land   = np.array([land.squeeze('region').data]*np.shape(refReg)[0])\n",
    "        #3d mask with land and refRegions\n",
    "        mask = refReg*land\n",
    "    else: mask = refReg*1\n",
    "    #Average value by region\n",
    "    out = values.weighted(mask * wghts).mean(dim=(\"lat\", \"lon\")).data\n",
    "    if np.shape(out)[1] == len(refReg):#46: \n",
    "        out = pd.DataFrame(out) \n",
    "        try: out.index  = list(values.time.data)\n",
    "        except:  out.index  = list(values.model.data)\n",
    "        out.columns= list(mask.abbrevs.data)\n",
    "        return out\n",
    "    else: print(\"Error: out df does not have correct dims\")\n",
    "    "
   ]
  },
  {
   "cell_type": "code",
   "execution_count": 35,
   "id": "319485bb",
   "metadata": {},
   "outputs": [],
   "source": [
    "#Calculate Regional Mean\n",
    "for model in ['hadcm','trace','cmip6']:\n",
    "    for szn in ['ANN','JJA','DJF']:\n",
    "        data =  modelData[model][szn]\n",
    "        for var in ['pre','p-e','tas']:\n",
    "            for geovar in ['all','land']:\n",
    "                df = maskmodeldata(data[var],data[var].lat,data[var].lon,geo=geovar)\n",
    "                #df.to_csv('Data/Model/RegionalTS/'+'regional'+'_'+var+'_'+szn+'_'+model+'_'+geovar+'.csv')"
   ]
  }
 ],
 "metadata": {
  "kernelspec": {
   "display_name": "Python 3 (ipykernel)",
   "language": "python",
   "name": "python3"
  },
  "language_info": {
   "codemirror_mode": {
    "name": "ipython",
    "version": 3
   },
   "file_extension": ".py",
   "mimetype": "text/x-python",
   "name": "python",
   "nbconvert_exporter": "python",
   "pygments_lexer": "ipython3",
   "version": "3.9.13"
  }
 },
 "nbformat": 4,
 "nbformat_minor": 5
}
