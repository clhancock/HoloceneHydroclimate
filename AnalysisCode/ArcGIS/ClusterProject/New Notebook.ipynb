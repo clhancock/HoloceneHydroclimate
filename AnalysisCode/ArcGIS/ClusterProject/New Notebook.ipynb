{
 "cells": [
  {
   "cell_type": "code",
   "execution_count": 1,
   "metadata": {},
   "outputs": [],
   "source": [
    "import os; import arcpy; import numpy as np\n",
    "#Set Coordinate System\n",
    "spatialRef    = arcpy.SpatialReference(4326) #WGS1984\n",
    "spatialRefPrj = arcpy.SpatialReference(32662) #WGS_1984_Plate_Carre\n",
    "\n",
    "climateVariable = 'HC' #T or HC\n",
    "#Set file names and locations\n",
    "data_dir = r'Z:\\Desktop\\HoloceneHydroclimate\\DataSummary'\n",
    "dataname = 'proxy'+climateVariable\n",
    "datapath = os.path.join(data_dir,dataname+'.csv')\n",
    "XFieldName = 'Lon'; YFieldName = 'Lat'\n",
    "datanameProject = dataname+\"_project\""
   ]
  },
  {
   "cell_type": "code",
   "execution_count": 2,
   "metadata": {},
   "outputs": [
    {
     "data": {
      "text/html": [
       "<h2>Output</h2>Z:\\Desktop\\HoloceneHydroclimate\\AnalysisCode\\ArcGIS\\ClusterProject\\ClusterProject.gdb\\proxyHC_project<h2>Messages</h2>Start Time: Sunday, August 29, 2021 9:49:23 PM<br/>Succeeded at Sunday, August 29, 2021 9:49:32 PM (Elapsed Time: 8.90 seconds)<br/><style>.rendered_html td, .rendered_html th {text-align: left;}.rendered_html tbody {border: 1px solid black;}</style>"
      ],
      "text/plain": [
       "<Result 'Z:\\\\Desktop\\\\HoloceneHydroclimate\\\\AnalysisCode\\\\ArcGIS\\\\ClusterProject\\\\ClusterProject.gdb\\\\proxyHC_project'>"
      ]
     },
     "execution_count": 2,
     "metadata": {},
     "output_type": "execute_result"
    }
   ],
   "source": [
    "#Load and project spatial data from csv file\n",
    "arcpy.env.overwriteOutput = True\n",
    "arcpy.management.XYTableToPoint(datapath,dataname,XFieldName,YFieldName,coordinate_system=spatialRef)\n",
    "arcpy.management.Project(dataname,datanameProject,spatialRefPrj)"
   ]
  },
  {
   "cell_type": "code",
   "execution_count": 6,
   "metadata": {},
   "outputs": [
    {
     "name": "stdout",
     "output_type": "stream",
     "text": [
      "687\n",
      "8\n"
     ]
    },
    {
     "data": {
      "text/html": [
       "<h2>Output</h2><table><tr><th>id</th><th>value</th></tr><tr><td>0</td><td>Z:\\Desktop\\HoloceneHydroclimate\\AnalysisCode\\ArcGIS\\ClusterProject\\ClusterProject.gdb\\proxyHC_Cluster</td></tr><tr><td>1</td><td></td></tr></table><h2>Messages</h2>Start Time: Sunday, August 29, 2021 10:00:03 PM<br/>WARNING 000642: Problems reading 212 of 687 total records.<br/>WARNING 000848: Features with bad records (only includes first 30): OBJECTID = 1, 2, 11, 12, 13, 14, 15, 16, 17, 18, 27, 36, 37, 48, 49, 58, 65, 66, 69, 73, 82, 95, 98, 111, 112, 115, 117, 119, 122, 126.<br/>Evaluating Optimal Number of Clusters....<br/>WARNING 110132: There were 16 disconnected clusters based on your Spatial Constraints.<br/><br/>Optimal number of clusters is 24 based on the highest pseudo F-statistic.<br/><br/>                Variable-Wise Summary                <br/>  Variable      Mean Std. Dev.       Min      Max       R2<br/>TOTALSLOPE  0.007302  0.169988 -0.349386 0.333280 0.352302<br/> LATESLOPE -0.011861  0.254896 -0.686295 0.651680 0.230011<br/><br/>Succeeded at Sunday, August 29, 2021 10:00:35 PM (Elapsed Time: 32.30 seconds)<br/><style>.rendered_html td, .rendered_html th {text-align: left;}.rendered_html tbody {border: 1px solid black;}</style>"
      ],
      "text/plain": [
       "<Result 'Z:\\\\Desktop\\\\HoloceneHydroclimate\\\\AnalysisCode\\\\ArcGIS\\\\ClusterProject\\\\ClusterProject.gdb\\\\proxyHC_Cluster'>"
      ]
     },
     "execution_count": 6,
     "metadata": {},
     "output_type": "execute_result"
    }
   ],
   "source": [
    "if climateVariable == 'HC':\n",
    "    ClusterField = ['LateSlope','TotalSlope'] #Attributes to weight clustering by \n",
    "    #ClusterField = ['bin6ka','bin3ka']\n",
    "    spatialWeight = 6\n",
    "elif climateVariable == 'T':\n",
    "    ClusterField = ['LateSlope','EarlySlope'] #Attributes to weight clustering by \n",
    "    #ClusterField = ['bin6ka','bin3ka']\n",
    "    spatialWeight = 8\n",
    "\n",
    "\n",
    "#Cluster sites based on geographic proximity and attribute values\n",
    "arcpy.env.overwriteOutput = True\n",
    "ClusterSelect= arcpy.SelectLayerByAttribute_management(datanameProject,\"NEW_SELECTION\",\"Lat>-60\") #Seperate antarctic records from analysis\n",
    "ClusterCount = arcpy.GetCount_management(ClusterSelect).getOutput(0) #Get count of records\n",
    "print(ClusterCount)\n",
    "ClusterCountMin = int(np.nanmax([2,int(float(ClusterCount)*0.02)]))\n",
    "ClusterCountMin = 8\n",
    "print(ClusterCountMin)\n",
    "SpatialWeights = arcpy.stats.GenerateSpatialWeightsMatrix(ClusterSelect,\n",
    "        \"Field1\",r\"Z:\\Desktop\\HoloceneHydroclimate\\AnalysisCode\\ArcGIS\\ClusterSpatialWeights.swm\", \"K_NEAREST_NEIGHBORS\",\n",
    "        \"EUCLIDEAN\", 2, None,spatialWeight, \"ROW_STANDARDIZATION\", None, None, '', None, None)\n",
    "arcpy.stats.SpatiallyConstrainedMultivariateClustering(ClusterSelect,dataname+\"_Cluster\",\n",
    "    ClusterField,\"NUM_FEATURES\", None,ClusterCountMin,None,None,\n",
    "    \"GET_SPATIAL_WEIGHTS_FROM_FILE\", SpatialWeights, 0, None) #\"TRIMMED_DELAUNAY_TRIANGULATION\"\n"
   ]
  },
  {
   "cell_type": "code",
   "execution_count": null,
   "metadata": {},
   "outputs": [],
   "source": []
  }
 ],
 "metadata": {
  "kernelspec": {
   "display_name": "ArcGISPro",
   "language": "Python",
   "name": "python3"
  },
  "language_info": {
   "file_extension": ".py",
   "name": "python",
   "version": "3"
  }
 },
 "nbformat": 4,
 "nbformat_minor": 2
}
