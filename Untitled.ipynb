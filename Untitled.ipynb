{
 "cells": [
  {
   "cell_type": "code",
   "execution_count": 1,
   "metadata": {},
   "outputs": [],
   "source": [
    "#%% 1 Load Packages\n",
    "\n",
    "import numpy      as np\n",
    "import pandas     as pd\n",
    "import regionmask as rm\n",
    "import xarray     as xr \n",
    "from   scipy      import stats\n",
    "\n",
    "#For Figures:\n",
    "\n",
    "import cartopy.crs         as ccrs        \n",
    "import cartopy.feature     as cfeature\n",
    "import cartopy.util        as cutil\n",
    "import matplotlib.pyplot   as plt         \n",
    "from   mpl_toolkits.axes_grid1.inset_locator import inset_axes"
   ]
  },
  {
   "cell_type": "code",
   "execution_count": null,
   "metadata": {},
   "outputs": [],
   "source": []
  }
 ],
 "metadata": {
  "kernelspec": {
   "display_name": "Python 3",
   "language": "python",
   "name": "python3"
  },
  "language_info": {
   "codemirror_mode": {
    "name": "ipython",
    "version": 3
   },
   "file_extension": ".py",
   "mimetype": "text/x-python",
   "name": "python",
   "nbconvert_exporter": "python",
   "pygments_lexer": "ipython3",
   "version": "3.8.5"
  }
 },
 "nbformat": 4,
 "nbformat_minor": 4
}
